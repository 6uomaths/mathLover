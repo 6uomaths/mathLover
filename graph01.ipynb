{
 "cells": [
  {
   "cell_type": "code",
   "execution_count": 2,
   "metadata": {},
   "outputs": [
    {
     "data": {
      "text/html": [
       "<pre style=\"white-space:pre;overflow-x:auto;line-height:normal;font-family:Menlo,'DejaVu Sans Mono',consolas,'Courier New',monospace\">Manim Community <span style=\"color: #008000; text-decoration-color: #008000\">v0.15.2</span>\n",
       "\n",
       "</pre>\n"
      ],
      "text/plain": [
       "Manim Community \u001b[32mv0.\u001b[0m\u001b[32m15.2\u001b[0m\n",
       "\n"
      ]
     },
     "metadata": {},
     "output_type": "display_data"
    }
   ],
   "source": [
    "from manim import *\n",
    "import math\n",
    "config.media_width = \"100%\""
   ]
  },
  {
   "cell_type": "code",
   "execution_count": 7,
   "metadata": {},
   "outputs": [
    {
     "name": "stderr",
     "output_type": "stream",
     "text": [
      "                                                                                                              \r"
     ]
    },
    {
     "data": {
      "text/html": [
       "<video src=\"media\\jupyter\\Graphing@2022-05-23@14-25-39.mp4\" controls autoplay loop style=\"max-width: 100%;\"  >\n",
       "      Your browser does not support the <code>video</code> element.\n",
       "    </video>"
      ],
      "text/plain": [
       "<IPython.core.display.Video object>"
      ]
     },
     "metadata": {},
     "output_type": "display_data"
    }
   ],
   "source": [
    "%%manim -v Warning --disable_caching -qm Graphing\n",
    "\n",
    "class Graphing(Scene):\n",
    "    def construct(self):\n",
    "\n",
    "        plane = NumberPlane(\n",
    "            x_range=[-10, 10, 1],\n",
    "            y_range=[-2, 6, 2],\n",
    "            background_line_style={\n",
    "                \"stroke_color\": TEAL,\n",
    "                \"stroke_width\": 4,\n",
    "                \"stroke_opacity\": 0.6\n",
    "            }\n",
    "        ).add_coordinates()\n",
    "        \n",
    "        parab = plane.plot(lambda x: x**2, x_range=[-2, 2], color=BLUE_C)\n",
    "\n",
    "        func_labels = (\n",
    "            MathTex(\"a^2 = b^2 + c^2\")\n",
    "            .scale(0.6)\n",
    "            .next_to(parab, UR, buff=0.25)\n",
    "            .set_color(GREEN)\n",
    "        )\n",
    "    \n",
    "        self.play(DrawBorderThenFill(plane))\n",
    "        self.wait(duration=0.3)\n",
    "        self.play(Create(parab))\n",
    "        self.play(Create(func_labels))\n",
    "        self.wait()\n",
    "\n",
    "    "
   ]
  }
 ],
 "metadata": {
  "interpreter": {
   "hash": "298c87bb46c0ece7abcceec7d9fcd87435e079314f0dee0953f90f5b1b40d0e0"
  },
  "kernelspec": {
   "display_name": "Python 3.8.2 32-bit",
   "language": "python",
   "name": "python3"
  },
  "language_info": {
   "codemirror_mode": {
    "name": "ipython",
    "version": 3
   },
   "file_extension": ".py",
   "mimetype": "text/x-python",
   "name": "python",
   "nbconvert_exporter": "python",
   "pygments_lexer": "ipython3",
   "version": "3.8.2"
  },
  "orig_nbformat": 4
 },
 "nbformat": 4,
 "nbformat_minor": 2
}
